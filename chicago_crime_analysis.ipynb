{
  "nbformat": 4,
  "nbformat_minor": 0,
  "metadata": {
    "colab": {
      "provenance": []
    },
    "kernelspec": {
      "name": "python3",
      "display_name": "Python 3"
    },
    "language_info": {
      "name": "python"
    }
  },
  "cells": [
    {
      "cell_type": "code",
      "source": [
        "!pip install -q pandas==1.1.5"
      ],
      "metadata": {
        "colab": {
          "base_uri": "https://localhost:8080/"
        },
        "collapsed": true,
        "id": "Lx16o0TvtlBP",
        "outputId": "b6764d15-9f56-45b5-a22b-20ec0bc5716d"
      },
      "execution_count": 2,
      "outputs": [
        {
          "output_type": "stream",
          "name": "stdout",
          "text": [
            "  Installing build dependencies ... \u001b[?25l\u001b[?25hdone\n",
            "  Getting requirements to build wheel ... \u001b[?25l\u001b[?25hdone\n",
            "  Preparing metadata (pyproject.toml) ... \u001b[?25l\u001b[?25hdone\n",
            "  Building wheel for pandas (pyproject.toml) ... \u001b[?25l\u001b[?25hdone\n",
            "\u001b[31mERROR: pip's dependency resolver does not currently take into account all the packages that are installed. This behaviour is the source of the following dependency conflicts.\n",
            "arviz 0.15.1 requires pandas>=1.3.0, but you have pandas 1.1.5 which is incompatible.\n",
            "bigframes 1.6.0 requires pandas>=1.5.0, but you have pandas 1.1.5 which is incompatible.\n",
            "bokeh 3.3.4 requires pandas>=1.2, but you have pandas 1.1.5 which is incompatible.\n",
            "cudf-cu12 24.4.1 requires pandas<2.2.2dev0,>=2.0, but you have pandas 1.1.5 which is incompatible.\n",
            "google-colab 1.0.0 requires pandas==2.0.3, but you have pandas 1.1.5 which is incompatible.\n",
            "ibis-framework 8.0.0 requires pandas<3,>=1.2.5, but you have pandas 1.1.5 which is incompatible.\n",
            "mizani 0.9.3 requires pandas>=1.3.5, but you have pandas 1.1.5 which is incompatible.\n",
            "panel 1.3.8 requires pandas>=1.2, but you have pandas 1.1.5 which is incompatible.\n",
            "plotnine 0.12.4 requires pandas>=1.5.0, but you have pandas 1.1.5 which is incompatible.\n",
            "seaborn 0.13.1 requires pandas>=1.2, but you have pandas 1.1.5 which is incompatible.\n",
            "statsmodels 0.14.2 requires pandas!=2.1.0,>=1.4, but you have pandas 1.1.5 which is incompatible.\n",
            "xarray 2023.7.0 requires pandas>=1.4, but you have pandas 1.1.5 which is incompatible.\n",
            "yfinance 0.2.40 requires pandas>=1.3.0, but you have pandas 1.1.5 which is incompatible.\u001b[0m\u001b[31m\n",
            "\u001b[0m"
          ]
        }
      ]
    },
    {
      "cell_type": "code",
      "source": [
        "%load_ext sql"
      ],
      "metadata": {
        "id": "ZQExhDhjwBJO"
      },
      "execution_count": 3,
      "outputs": []
    },
    {
      "cell_type": "code",
      "source": [
        "import csv, sqlite3\n",
        "import pandas as pd"
      ],
      "metadata": {
        "id": "KHRwq5G4vtaD"
      },
      "execution_count": 4,
      "outputs": []
    },
    {
      "cell_type": "code",
      "source": [
        "conn = sqlite3.connect(\"Chicago.db\")\n",
        "cur = conn.cursor()"
      ],
      "metadata": {
        "id": "l1ryLGqiv8fg"
      },
      "execution_count": 5,
      "outputs": []
    },
    {
      "cell_type": "code",
      "source": [
        "%sql sqlite:///Chicago.db\n",
        "\n",
        "df = pd.read_csv(\"https://cf-courses-data.s3.us.cloud-object-storage.appdomain.cloud/IBMDeveloperSkillsNetwork-DB0201EN-SkillsNetwork/labs/FinalModule_Coursera_V5/data/ChicagoCensusData.csv?utm_medium=Exinfluencer&utm_source=Exinfluencer&utm_content=000026UJ&utm_term=10006555&utm_id=NA-SkillsNetwork-Channel-SkillsNetworkCoursesIBMDeveloperSkillsNetworkDB0201ENSkillsNetwork20127838-2021-01-01\")\n",
        "df.to_sql(\"CENSUS_DATA\", conn, if_exists=\"replace\", index=False, method=\"multi\")\n",
        "\n",
        "df = pd.read_csv(\"https://cf-courses-data.s3.us.cloud-object-storage.appdomain.cloud/IBMDeveloperSkillsNetwork-DB0201EN-SkillsNetwork/labs/FinalModule_Coursera_V5/data/ChicagoPublicSchools.csv?utm_medium=Exinfluencer&utm_source=Exinfluencer&utm_content=000026UJ&utm_term=10006555&utm_id=NA-SkillsNetwork-Channel-SkillsNetworkCoursesIBMDeveloperSkillsNetworkDB0201ENSkillsNetwork20127838-2021-01-01\")\n",
        "df.to_sql(\"PUBLIC_SCHOOLS\", conn, if_exists=\"replace\", index=False, method=\"multi\")\n",
        "\n",
        "df = pd.read_csv(\"https://cf-courses-data.s3.us.cloud-object-storage.appdomain.cloud/IBMDeveloperSkillsNetwork-DB0201EN-SkillsNetwork/labs/FinalModule_Coursera_V5/data/ChicagoCrimeData.csv?utm_medium=Exinfluencer&utm_source=Exinfluencer&utm_content=000026UJ&utm_term=10006555&utm_id=NA-SkillsNetwork-Channel-SkillsNetworkCoursesIBMDeveloperSkillsNetworkDB0201ENSkillsNetwork20127838-2021-01-01\")\n",
        "df.to_sql(\"CRIME_DATA\", conn, if_exists=\"replace\", index=False, method=\"multi\")"
      ],
      "metadata": {
        "id": "2vqdiNDcwd9e"
      },
      "execution_count": null,
      "outputs": []
    },
    {
      "cell_type": "code",
      "source": [
        "#1. Find the total number of crimes recorded in the CRIME_DATA table\n",
        "%sql SELECT COUNT(*) FROM CRIME_DATA;"
      ],
      "metadata": {
        "colab": {
          "base_uri": "https://localhost:8080/",
          "height": 97
        },
        "id": "uasDijjTyJyQ",
        "outputId": "744d7a63-e6fc-4368-8830-08d07d9bd8ff"
      },
      "execution_count": 7,
      "outputs": [
        {
          "output_type": "stream",
          "name": "stdout",
          "text": [
            " * sqlite:///Chicago.db\n",
            "Done.\n"
          ]
        },
        {
          "output_type": "execute_result",
          "data": {
            "text/plain": [
              "[(533,)]"
            ],
            "text/html": [
              "<table>\n",
              "    <thead>\n",
              "        <tr>\n",
              "            <th>COUNT(*)</th>\n",
              "        </tr>\n",
              "    </thead>\n",
              "    <tbody>\n",
              "        <tr>\n",
              "            <td>533</td>\n",
              "        </tr>\n",
              "    </tbody>\n",
              "</table>"
            ]
          },
          "metadata": {},
          "execution_count": 7
        }
      ]
    },
    {
      "cell_type": "code",
      "source": [
        "#2. List community area names and numbers with per capita income less than 11,000\n",
        "%sql SELECT COMMUNITY_AREA_NUMBER, COMMUNITY_AREA_NAME, PER_CAPITA_INCOME FROM CENSUS_DATA WHERE PER_CAPITA_INCOME < 11000;"
      ],
      "metadata": {
        "colab": {
          "base_uri": "https://localhost:8080/",
          "height": 162
        },
        "id": "o3xL7N6Jymic",
        "outputId": "a303eb60-fa9d-4f6c-89d1-88cdc0569719"
      },
      "execution_count": 9,
      "outputs": [
        {
          "output_type": "stream",
          "name": "stdout",
          "text": [
            " * sqlite:///Chicago.db\n",
            "Done.\n"
          ]
        },
        {
          "output_type": "execute_result",
          "data": {
            "text/plain": [
              "[(26.0, 'West Garfield Park', 10934),\n",
              " (30.0, 'South Lawndale', 10402),\n",
              " (37.0, 'Fuller Park', 10432),\n",
              " (54.0, 'Riverdale', 8201)]"
            ],
            "text/html": [
              "<table>\n",
              "    <thead>\n",
              "        <tr>\n",
              "            <th>COMMUNITY_AREA_NUMBER</th>\n",
              "            <th>COMMUNITY_AREA_NAME</th>\n",
              "            <th>PER_CAPITA_INCOME</th>\n",
              "        </tr>\n",
              "    </thead>\n",
              "    <tbody>\n",
              "        <tr>\n",
              "            <td>26.0</td>\n",
              "            <td>West Garfield Park</td>\n",
              "            <td>10934</td>\n",
              "        </tr>\n",
              "        <tr>\n",
              "            <td>30.0</td>\n",
              "            <td>South Lawndale</td>\n",
              "            <td>10402</td>\n",
              "        </tr>\n",
              "        <tr>\n",
              "            <td>37.0</td>\n",
              "            <td>Fuller Park</td>\n",
              "            <td>10432</td>\n",
              "        </tr>\n",
              "        <tr>\n",
              "            <td>54.0</td>\n",
              "            <td>Riverdale</td>\n",
              "            <td>8201</td>\n",
              "        </tr>\n",
              "    </tbody>\n",
              "</table>"
            ]
          },
          "metadata": {},
          "execution_count": 9
        }
      ]
    },
    {
      "cell_type": "code",
      "source": [
        "#3. List all case numbers for crimes involving minors?(children are not considered minors for the purposes of crime analysis)\n",
        "%sql SELECT * FROM CRIME_DATA WHERE DESCRIPTION LIKE \"%MINOR%\";"
      ],
      "metadata": {
        "colab": {
          "base_uri": "https://localhost:8080/",
          "height": 260
        },
        "id": "R9Tf4Og9z_Fl",
        "outputId": "9fe6eb0c-6471-4475-ba77-a48d739fc4f6"
      },
      "execution_count": 11,
      "outputs": [
        {
          "output_type": "stream",
          "name": "stdout",
          "text": [
            " * sqlite:///Chicago.db\n",
            "Done.\n"
          ]
        },
        {
          "output_type": "execute_result",
          "data": {
            "text/plain": [
              "[(3987219, 'HL266884', '2005-03-31', '024XX N CLARK ST', '2210', 'LIQUOR LAW VIOLATION', 'SELL/GIVE/DEL LIQUOR TO MINOR', 'CONVENIENCE STORE', 1, 0, 2333, 19, 43.0, 7.0, '22', 1172680.0, 1916483.0, 2005, 41.92626872, -87.64089934, '(41.926268719, -87.640899336)'),\n",
              " (3266814, 'HK238408', '2004-03-13', '093XX S STONY ISLAND AVE', '2230', 'LIQUOR LAW VIOLATION', 'ILLEGAL CONSUMPTION BY MINOR', 'ALLEY', 1, 0, 413, 4, 8.0, 48.0, '22', 1188539.0, 1843379.0, 2004, 41.72530099, -87.58496589, '(41.72530099, -87.584965887)')]"
            ],
            "text/html": [
              "<table>\n",
              "    <thead>\n",
              "        <tr>\n",
              "            <th>ID</th>\n",
              "            <th>CASE_NUMBER</th>\n",
              "            <th>DATE</th>\n",
              "            <th>BLOCK</th>\n",
              "            <th>IUCR</th>\n",
              "            <th>PRIMARY_TYPE</th>\n",
              "            <th>DESCRIPTION</th>\n",
              "            <th>LOCATION_DESCRIPTION</th>\n",
              "            <th>ARREST</th>\n",
              "            <th>DOMESTIC</th>\n",
              "            <th>BEAT</th>\n",
              "            <th>DISTRICT</th>\n",
              "            <th>WARD</th>\n",
              "            <th>COMMUNITY_AREA_NUMBER</th>\n",
              "            <th>FBICODE</th>\n",
              "            <th>X_COORDINATE</th>\n",
              "            <th>Y_COORDINATE</th>\n",
              "            <th>YEAR</th>\n",
              "            <th>LATITUDE</th>\n",
              "            <th>LONGITUDE</th>\n",
              "            <th>LOCATION</th>\n",
              "        </tr>\n",
              "    </thead>\n",
              "    <tbody>\n",
              "        <tr>\n",
              "            <td>3987219</td>\n",
              "            <td>HL266884</td>\n",
              "            <td>2005-03-31</td>\n",
              "            <td>024XX N CLARK ST</td>\n",
              "            <td>2210</td>\n",
              "            <td>LIQUOR LAW VIOLATION</td>\n",
              "            <td>SELL/GIVE/DEL LIQUOR TO MINOR</td>\n",
              "            <td>CONVENIENCE STORE</td>\n",
              "            <td>1</td>\n",
              "            <td>0</td>\n",
              "            <td>2333</td>\n",
              "            <td>19</td>\n",
              "            <td>43.0</td>\n",
              "            <td>7.0</td>\n",
              "            <td>22</td>\n",
              "            <td>1172680.0</td>\n",
              "            <td>1916483.0</td>\n",
              "            <td>2005</td>\n",
              "            <td>41.92626872</td>\n",
              "            <td>-87.64089934</td>\n",
              "            <td>(41.926268719, -87.640899336)</td>\n",
              "        </tr>\n",
              "        <tr>\n",
              "            <td>3266814</td>\n",
              "            <td>HK238408</td>\n",
              "            <td>2004-03-13</td>\n",
              "            <td>093XX S STONY ISLAND AVE</td>\n",
              "            <td>2230</td>\n",
              "            <td>LIQUOR LAW VIOLATION</td>\n",
              "            <td>ILLEGAL CONSUMPTION BY MINOR</td>\n",
              "            <td>ALLEY</td>\n",
              "            <td>1</td>\n",
              "            <td>0</td>\n",
              "            <td>413</td>\n",
              "            <td>4</td>\n",
              "            <td>8.0</td>\n",
              "            <td>48.0</td>\n",
              "            <td>22</td>\n",
              "            <td>1188539.0</td>\n",
              "            <td>1843379.0</td>\n",
              "            <td>2004</td>\n",
              "            <td>41.72530099</td>\n",
              "            <td>-87.58496589</td>\n",
              "            <td>(41.72530099, -87.584965887)</td>\n",
              "        </tr>\n",
              "    </tbody>\n",
              "</table>"
            ]
          },
          "metadata": {},
          "execution_count": 11
        }
      ]
    },
    {
      "cell_type": "code",
      "source": [
        "#4. List all kidnapping crimes involving a child\n",
        "%sql SELECT * FROM CRIME_DATA WHERE IUCR BETWEEN 1790 AND 1792;"
      ],
      "metadata": {
        "colab": {
          "base_uri": "https://localhost:8080/",
          "height": 170
        },
        "id": "QUQZYboS0nBb",
        "outputId": "ad4e605e-0902-4454-931c-838063dedcd5"
      },
      "execution_count": 12,
      "outputs": [
        {
          "output_type": "stream",
          "name": "stdout",
          "text": [
            " * sqlite:///Chicago.db\n",
            "Done.\n"
          ]
        },
        {
          "output_type": "execute_result",
          "data": {
            "text/plain": [
              "[(5276766, 'HN144152', '2007-01-26', '050XX W VAN BUREN ST', '1792', 'KIDNAPPING', 'CHILD ABDUCTION/STRANGER', 'STREET', 0, 0, 1533, 15, 29.0, 25.0, '20', 1143050.0, 1897546.0, 2007, 41.87490841, -87.75024931, '(41.874908413, -87.750249307)')]"
            ],
            "text/html": [
              "<table>\n",
              "    <thead>\n",
              "        <tr>\n",
              "            <th>ID</th>\n",
              "            <th>CASE_NUMBER</th>\n",
              "            <th>DATE</th>\n",
              "            <th>BLOCK</th>\n",
              "            <th>IUCR</th>\n",
              "            <th>PRIMARY_TYPE</th>\n",
              "            <th>DESCRIPTION</th>\n",
              "            <th>LOCATION_DESCRIPTION</th>\n",
              "            <th>ARREST</th>\n",
              "            <th>DOMESTIC</th>\n",
              "            <th>BEAT</th>\n",
              "            <th>DISTRICT</th>\n",
              "            <th>WARD</th>\n",
              "            <th>COMMUNITY_AREA_NUMBER</th>\n",
              "            <th>FBICODE</th>\n",
              "            <th>X_COORDINATE</th>\n",
              "            <th>Y_COORDINATE</th>\n",
              "            <th>YEAR</th>\n",
              "            <th>LATITUDE</th>\n",
              "            <th>LONGITUDE</th>\n",
              "            <th>LOCATION</th>\n",
              "        </tr>\n",
              "    </thead>\n",
              "    <tbody>\n",
              "        <tr>\n",
              "            <td>5276766</td>\n",
              "            <td>HN144152</td>\n",
              "            <td>2007-01-26</td>\n",
              "            <td>050XX W VAN BUREN ST</td>\n",
              "            <td>1792</td>\n",
              "            <td>KIDNAPPING</td>\n",
              "            <td>CHILD ABDUCTION/STRANGER</td>\n",
              "            <td>STREET</td>\n",
              "            <td>0</td>\n",
              "            <td>0</td>\n",
              "            <td>1533</td>\n",
              "            <td>15</td>\n",
              "            <td>29.0</td>\n",
              "            <td>25.0</td>\n",
              "            <td>20</td>\n",
              "            <td>1143050.0</td>\n",
              "            <td>1897546.0</td>\n",
              "            <td>2007</td>\n",
              "            <td>41.87490841</td>\n",
              "            <td>-87.75024931</td>\n",
              "            <td>(41.874908413, -87.750249307)</td>\n",
              "        </tr>\n",
              "    </tbody>\n",
              "</table>"
            ]
          },
          "metadata": {},
          "execution_count": 12
        }
      ]
    },
    {
      "cell_type": "code",
      "source": [
        "#5. List the kind of crimes that were recorded at schools (No repetitions)\n",
        "%sql SELECT * FROM CRIME_DATA WHERE LOCATION_DESCRIPTION LIKE \"%SCHOOL%\" GROUP BY IUCR;"
      ],
      "metadata": {
        "colab": {
          "base_uri": "https://localhost:8080/",
          "height": 510
        },
        "id": "JBOiE71D1E4u",
        "outputId": "f5edef07-f746-47d0-9ab5-6e4a5911edd2"
      },
      "execution_count": 13,
      "outputs": [
        {
          "output_type": "stream",
          "name": "stdout",
          "text": [
            " * sqlite:///Chicago.db\n",
            "Done.\n"
          ]
        },
        {
          "output_type": "execute_result",
          "data": {
            "text/plain": [
              "[(7399281, 'HS200939', '2010-03-10', '053XX W CONGRESS PKWY', '1320', 'CRIMINAL DAMAGE', 'TO VEHICLE', 'SCHOOL, PUBLIC, GROUNDS', 0, 0, 1522, 15, 29.0, 25.0, '14', 1140822.0, 1897164.0, 2010, 41.8739014, -87.7584391, '(41.873901397, -87.758439102)'),\n",
              " (7174283, 'HR585012', '2009-10-13', '043XX W 79TH ST', '1330', 'CRIMINAL TRESPASS', 'TO LAND', 'SCHOOL, PUBLIC, GROUNDS', 1, 0, 834, 8, 13.0, 70.0, '26', 1148764.0, 1851854.0, 2009, 41.74941446, -87.7304466, '(41.749414464, -87.730446597)'),\n",
              " (7502426, 'HS305355', '2010-05-13', '035XX S WASHTENAW AVE', '1821', 'NARCOTICS', 'MANU/DEL:CANNABIS 10GM OR LESS', 'SCHOOL, PUBLIC, BUILDING', 1, 0, 913, 9, 12.0, 58.0, '18', 1158944.0, 1880896.0, 2010, 41.82890791, -87.69234919, '(41.828907913, -87.692349187)'),\n",
              " (3530721, 'HK577020', '2004-08-23', '016XX W JONQUIL TER', '2024', 'NARCOTICS', 'POSS: HEROIN(WHITE)', 'SCHOOL, PUBLIC, GROUNDS', 1, 0, 2422, 24, 49.0, 1.0, '18', 1163893.0, 1951001.0, 2004, 42.0211776, -87.67220843, '(42.021177601, -87.67220843)'),\n",
              " (2075734, 'HH292682', '2002-04-05', '016XX W BRYN MAWR AV', '2850', 'PUBLIC PEACE VIOLATION', 'BOMB THREAT', 'SCHOOL, PRIVATE, BUILDING', 0, 0, 2012, 20, None, None, '26', None, None, 2002, None, None, None),\n",
              " (4006321, 'HL353697', '2005-05-04', '077XX S BURNHAM AVE', '460', 'BATTERY', 'SIMPLE', 'SCHOOL, PUBLIC, GROUNDS', 0, 0, 421, 4, 7.0, 43.0, '08B', 1196066.0, 1854156.0, 2005, 41.75469107, -87.55703869, '(41.754691074, -87.557038686)'),\n",
              " (4430638, 'HL725506', '2005-11-09', '048XX N FRANCISCO AVE', '484', 'BATTERY', 'PRO EMP HANDS NO/MIN INJURY', 'SCHOOL, PUBLIC, BUILDING', 1, 0, 2031, 20, 40.0, 4.0, '08B', 1156348.0, 1932071.0, 2005, 41.96938944, -87.70048881, '(41.96938944, -87.700488807)'),\n",
              " (8082600, 'HT315369', '2011-05-26', '032XX W ADAMS ST', '545', 'ASSAULT', 'PRO EMP HANDS NO/MIN INJURY', 'SCHOOL, PUBLIC, GROUNDS', 0, 0, 1124, 11, 28.0, 27.0, '08A', 1154752.0, 1898890.0, 2011, 41.87837031, -87.70724814, '(41.878370307, -87.707248137)')]"
            ],
            "text/html": [
              "<table>\n",
              "    <thead>\n",
              "        <tr>\n",
              "            <th>ID</th>\n",
              "            <th>CASE_NUMBER</th>\n",
              "            <th>DATE</th>\n",
              "            <th>BLOCK</th>\n",
              "            <th>IUCR</th>\n",
              "            <th>PRIMARY_TYPE</th>\n",
              "            <th>DESCRIPTION</th>\n",
              "            <th>LOCATION_DESCRIPTION</th>\n",
              "            <th>ARREST</th>\n",
              "            <th>DOMESTIC</th>\n",
              "            <th>BEAT</th>\n",
              "            <th>DISTRICT</th>\n",
              "            <th>WARD</th>\n",
              "            <th>COMMUNITY_AREA_NUMBER</th>\n",
              "            <th>FBICODE</th>\n",
              "            <th>X_COORDINATE</th>\n",
              "            <th>Y_COORDINATE</th>\n",
              "            <th>YEAR</th>\n",
              "            <th>LATITUDE</th>\n",
              "            <th>LONGITUDE</th>\n",
              "            <th>LOCATION</th>\n",
              "        </tr>\n",
              "    </thead>\n",
              "    <tbody>\n",
              "        <tr>\n",
              "            <td>7399281</td>\n",
              "            <td>HS200939</td>\n",
              "            <td>2010-03-10</td>\n",
              "            <td>053XX W CONGRESS PKWY</td>\n",
              "            <td>1320</td>\n",
              "            <td>CRIMINAL DAMAGE</td>\n",
              "            <td>TO VEHICLE</td>\n",
              "            <td>SCHOOL, PUBLIC, GROUNDS</td>\n",
              "            <td>0</td>\n",
              "            <td>0</td>\n",
              "            <td>1522</td>\n",
              "            <td>15</td>\n",
              "            <td>29.0</td>\n",
              "            <td>25.0</td>\n",
              "            <td>14</td>\n",
              "            <td>1140822.0</td>\n",
              "            <td>1897164.0</td>\n",
              "            <td>2010</td>\n",
              "            <td>41.8739014</td>\n",
              "            <td>-87.7584391</td>\n",
              "            <td>(41.873901397, -87.758439102)</td>\n",
              "        </tr>\n",
              "        <tr>\n",
              "            <td>7174283</td>\n",
              "            <td>HR585012</td>\n",
              "            <td>2009-10-13</td>\n",
              "            <td>043XX W 79TH ST</td>\n",
              "            <td>1330</td>\n",
              "            <td>CRIMINAL TRESPASS</td>\n",
              "            <td>TO LAND</td>\n",
              "            <td>SCHOOL, PUBLIC, GROUNDS</td>\n",
              "            <td>1</td>\n",
              "            <td>0</td>\n",
              "            <td>834</td>\n",
              "            <td>8</td>\n",
              "            <td>13.0</td>\n",
              "            <td>70.0</td>\n",
              "            <td>26</td>\n",
              "            <td>1148764.0</td>\n",
              "            <td>1851854.0</td>\n",
              "            <td>2009</td>\n",
              "            <td>41.74941446</td>\n",
              "            <td>-87.7304466</td>\n",
              "            <td>(41.749414464, -87.730446597)</td>\n",
              "        </tr>\n",
              "        <tr>\n",
              "            <td>7502426</td>\n",
              "            <td>HS305355</td>\n",
              "            <td>2010-05-13</td>\n",
              "            <td>035XX S WASHTENAW AVE</td>\n",
              "            <td>1821</td>\n",
              "            <td>NARCOTICS</td>\n",
              "            <td>MANU/DEL:CANNABIS 10GM OR LESS</td>\n",
              "            <td>SCHOOL, PUBLIC, BUILDING</td>\n",
              "            <td>1</td>\n",
              "            <td>0</td>\n",
              "            <td>913</td>\n",
              "            <td>9</td>\n",
              "            <td>12.0</td>\n",
              "            <td>58.0</td>\n",
              "            <td>18</td>\n",
              "            <td>1158944.0</td>\n",
              "            <td>1880896.0</td>\n",
              "            <td>2010</td>\n",
              "            <td>41.82890791</td>\n",
              "            <td>-87.69234919</td>\n",
              "            <td>(41.828907913, -87.692349187)</td>\n",
              "        </tr>\n",
              "        <tr>\n",
              "            <td>3530721</td>\n",
              "            <td>HK577020</td>\n",
              "            <td>2004-08-23</td>\n",
              "            <td>016XX W JONQUIL TER</td>\n",
              "            <td>2024</td>\n",
              "            <td>NARCOTICS</td>\n",
              "            <td>POSS: HEROIN(WHITE)</td>\n",
              "            <td>SCHOOL, PUBLIC, GROUNDS</td>\n",
              "            <td>1</td>\n",
              "            <td>0</td>\n",
              "            <td>2422</td>\n",
              "            <td>24</td>\n",
              "            <td>49.0</td>\n",
              "            <td>1.0</td>\n",
              "            <td>18</td>\n",
              "            <td>1163893.0</td>\n",
              "            <td>1951001.0</td>\n",
              "            <td>2004</td>\n",
              "            <td>42.0211776</td>\n",
              "            <td>-87.67220843</td>\n",
              "            <td>(42.021177601, -87.67220843)</td>\n",
              "        </tr>\n",
              "        <tr>\n",
              "            <td>2075734</td>\n",
              "            <td>HH292682</td>\n",
              "            <td>2002-04-05</td>\n",
              "            <td>016XX W BRYN MAWR AV</td>\n",
              "            <td>2850</td>\n",
              "            <td>PUBLIC PEACE VIOLATION</td>\n",
              "            <td>BOMB THREAT</td>\n",
              "            <td>SCHOOL, PRIVATE, BUILDING</td>\n",
              "            <td>0</td>\n",
              "            <td>0</td>\n",
              "            <td>2012</td>\n",
              "            <td>20</td>\n",
              "            <td>None</td>\n",
              "            <td>None</td>\n",
              "            <td>26</td>\n",
              "            <td>None</td>\n",
              "            <td>None</td>\n",
              "            <td>2002</td>\n",
              "            <td>None</td>\n",
              "            <td>None</td>\n",
              "            <td>None</td>\n",
              "        </tr>\n",
              "        <tr>\n",
              "            <td>4006321</td>\n",
              "            <td>HL353697</td>\n",
              "            <td>2005-05-04</td>\n",
              "            <td>077XX S BURNHAM AVE</td>\n",
              "            <td>460</td>\n",
              "            <td>BATTERY</td>\n",
              "            <td>SIMPLE</td>\n",
              "            <td>SCHOOL, PUBLIC, GROUNDS</td>\n",
              "            <td>0</td>\n",
              "            <td>0</td>\n",
              "            <td>421</td>\n",
              "            <td>4</td>\n",
              "            <td>7.0</td>\n",
              "            <td>43.0</td>\n",
              "            <td>08B</td>\n",
              "            <td>1196066.0</td>\n",
              "            <td>1854156.0</td>\n",
              "            <td>2005</td>\n",
              "            <td>41.75469107</td>\n",
              "            <td>-87.55703869</td>\n",
              "            <td>(41.754691074, -87.557038686)</td>\n",
              "        </tr>\n",
              "        <tr>\n",
              "            <td>4430638</td>\n",
              "            <td>HL725506</td>\n",
              "            <td>2005-11-09</td>\n",
              "            <td>048XX N FRANCISCO AVE</td>\n",
              "            <td>484</td>\n",
              "            <td>BATTERY</td>\n",
              "            <td>PRO EMP HANDS NO/MIN INJURY</td>\n",
              "            <td>SCHOOL, PUBLIC, BUILDING</td>\n",
              "            <td>1</td>\n",
              "            <td>0</td>\n",
              "            <td>2031</td>\n",
              "            <td>20</td>\n",
              "            <td>40.0</td>\n",
              "            <td>4.0</td>\n",
              "            <td>08B</td>\n",
              "            <td>1156348.0</td>\n",
              "            <td>1932071.0</td>\n",
              "            <td>2005</td>\n",
              "            <td>41.96938944</td>\n",
              "            <td>-87.70048881</td>\n",
              "            <td>(41.96938944, -87.700488807)</td>\n",
              "        </tr>\n",
              "        <tr>\n",
              "            <td>8082600</td>\n",
              "            <td>HT315369</td>\n",
              "            <td>2011-05-26</td>\n",
              "            <td>032XX W ADAMS ST</td>\n",
              "            <td>545</td>\n",
              "            <td>ASSAULT</td>\n",
              "            <td>PRO EMP HANDS NO/MIN INJURY</td>\n",
              "            <td>SCHOOL, PUBLIC, GROUNDS</td>\n",
              "            <td>0</td>\n",
              "            <td>0</td>\n",
              "            <td>1124</td>\n",
              "            <td>11</td>\n",
              "            <td>28.0</td>\n",
              "            <td>27.0</td>\n",
              "            <td>08A</td>\n",
              "            <td>1154752.0</td>\n",
              "            <td>1898890.0</td>\n",
              "            <td>2011</td>\n",
              "            <td>41.87837031</td>\n",
              "            <td>-87.70724814</td>\n",
              "            <td>(41.878370307, -87.707248137)</td>\n",
              "        </tr>\n",
              "    </tbody>\n",
              "</table>"
            ]
          },
          "metadata": {},
          "execution_count": 13
        }
      ]
    },
    {
      "cell_type": "code",
      "source": [
        "#6. List the type of schools along with the average safety score for each type\n",
        "%sql SELECT \"Elementary, Middle, or High School\", AVG(SAFETY_SCORE) AS Avg_Safety_Score FROM PUBLIC_SCHOOLS GROUP BY \"Elementary, Middle, or High School\""
      ],
      "metadata": {
        "colab": {
          "base_uri": "https://localhost:8080/",
          "height": 140
        },
        "id": "MaOdTuAl1lak",
        "outputId": "aea6453c-eaec-4e58-bb08-5df18239c4f1"
      },
      "execution_count": 15,
      "outputs": [
        {
          "output_type": "stream",
          "name": "stdout",
          "text": [
            " * sqlite:///Chicago.db\n",
            "Done.\n"
          ]
        },
        {
          "output_type": "execute_result",
          "data": {
            "text/plain": [
              "[('ES', 49.52038369304557), ('HS', 49.62352941176471), ('MS', 48.0)]"
            ],
            "text/html": [
              "<table>\n",
              "    <thead>\n",
              "        <tr>\n",
              "            <th>Elementary, Middle, or High School</th>\n",
              "            <th>Avg_Safety_Score</th>\n",
              "        </tr>\n",
              "    </thead>\n",
              "    <tbody>\n",
              "        <tr>\n",
              "            <td>ES</td>\n",
              "            <td>49.52038369304557</td>\n",
              "        </tr>\n",
              "        <tr>\n",
              "            <td>HS</td>\n",
              "            <td>49.62352941176471</td>\n",
              "        </tr>\n",
              "        <tr>\n",
              "            <td>MS</td>\n",
              "            <td>48.0</td>\n",
              "        </tr>\n",
              "    </tbody>\n",
              "</table>"
            ]
          },
          "metadata": {},
          "execution_count": 15
        }
      ]
    },
    {
      "cell_type": "code",
      "source": [
        "#7. List 5 community areas with highest % of households below poverty line\n",
        "%sql SELECT COMMUNITY_AREA_NAME, PERCENT_HOUSEHOLDS_BELOW_POVERTY FROM CENSUS_DATA GROUP BY COMMUNITY_AREA_NAME \\\n",
        "ORDER BY PERCENT_HOUSEHOLDS_BELOW_POVERTY DESC LIMIT 5;"
      ],
      "metadata": {
        "colab": {
          "base_uri": "https://localhost:8080/",
          "height": 183
        },
        "id": "q_0jVCXQ2v07",
        "outputId": "9e385413-323d-4ace-c9ea-1d06dea0a30f"
      },
      "execution_count": 16,
      "outputs": [
        {
          "output_type": "stream",
          "name": "stdout",
          "text": [
            " * sqlite:///Chicago.db\n",
            "Done.\n"
          ]
        },
        {
          "output_type": "execute_result",
          "data": {
            "text/plain": [
              "[('Riverdale', 56.5),\n",
              " ('Fuller Park', 51.2),\n",
              " ('Englewood', 46.6),\n",
              " ('North Lawndale', 43.1),\n",
              " ('East Garfield Park', 42.4)]"
            ],
            "text/html": [
              "<table>\n",
              "    <thead>\n",
              "        <tr>\n",
              "            <th>COMMUNITY_AREA_NAME</th>\n",
              "            <th>PERCENT_HOUSEHOLDS_BELOW_POVERTY</th>\n",
              "        </tr>\n",
              "    </thead>\n",
              "    <tbody>\n",
              "        <tr>\n",
              "            <td>Riverdale</td>\n",
              "            <td>56.5</td>\n",
              "        </tr>\n",
              "        <tr>\n",
              "            <td>Fuller Park</td>\n",
              "            <td>51.2</td>\n",
              "        </tr>\n",
              "        <tr>\n",
              "            <td>Englewood</td>\n",
              "            <td>46.6</td>\n",
              "        </tr>\n",
              "        <tr>\n",
              "            <td>North Lawndale</td>\n",
              "            <td>43.1</td>\n",
              "        </tr>\n",
              "        <tr>\n",
              "            <td>East Garfield Park</td>\n",
              "            <td>42.4</td>\n",
              "        </tr>\n",
              "    </tbody>\n",
              "</table>"
            ]
          },
          "metadata": {},
          "execution_count": 16
        }
      ]
    },
    {
      "cell_type": "code",
      "source": [
        "#8. Which community area is most crime prone? Display the coumminty area number only\n",
        "%sql SELECT COMMUNITY_AREA_NUMBER, COUNT(CASE_NUMBER) AS NUMBER_OF_CASES FROM CRIME_DATA WHERE COMMUNITY_AREA_NUMBER IS NOT NULL \\\n",
        "GROUP BY COMMUNITY_AREA_NUMBER ORDER BY NUMBER_OF_CASES DESC LIMIT 10;"
      ],
      "metadata": {
        "colab": {
          "base_uri": "https://localhost:8080/",
          "height": 290
        },
        "id": "foSG6pdp3amQ",
        "outputId": "06e54d39-4519-455d-e125-21cd32c6cdde"
      },
      "execution_count": 18,
      "outputs": [
        {
          "output_type": "stream",
          "name": "stdout",
          "text": [
            " * sqlite:///Chicago.db\n",
            "Done.\n"
          ]
        },
        {
          "output_type": "execute_result",
          "data": {
            "text/plain": [
              "[(25.0, 43),\n",
              " (23.0, 22),\n",
              " (68.0, 21),\n",
              " (29.0, 16),\n",
              " (28.0, 16),\n",
              " (8.0, 15),\n",
              " (71.0, 14),\n",
              " (24.0, 13),\n",
              " (67.0, 12),\n",
              " (66.0, 12)]"
            ],
            "text/html": [
              "<table>\n",
              "    <thead>\n",
              "        <tr>\n",
              "            <th>COMMUNITY_AREA_NUMBER</th>\n",
              "            <th>NUMBER_OF_CASES</th>\n",
              "        </tr>\n",
              "    </thead>\n",
              "    <tbody>\n",
              "        <tr>\n",
              "            <td>25.0</td>\n",
              "            <td>43</td>\n",
              "        </tr>\n",
              "        <tr>\n",
              "            <td>23.0</td>\n",
              "            <td>22</td>\n",
              "        </tr>\n",
              "        <tr>\n",
              "            <td>68.0</td>\n",
              "            <td>21</td>\n",
              "        </tr>\n",
              "        <tr>\n",
              "            <td>29.0</td>\n",
              "            <td>16</td>\n",
              "        </tr>\n",
              "        <tr>\n",
              "            <td>28.0</td>\n",
              "            <td>16</td>\n",
              "        </tr>\n",
              "        <tr>\n",
              "            <td>8.0</td>\n",
              "            <td>15</td>\n",
              "        </tr>\n",
              "        <tr>\n",
              "            <td>71.0</td>\n",
              "            <td>14</td>\n",
              "        </tr>\n",
              "        <tr>\n",
              "            <td>24.0</td>\n",
              "            <td>13</td>\n",
              "        </tr>\n",
              "        <tr>\n",
              "            <td>67.0</td>\n",
              "            <td>12</td>\n",
              "        </tr>\n",
              "        <tr>\n",
              "            <td>66.0</td>\n",
              "            <td>12</td>\n",
              "        </tr>\n",
              "    </tbody>\n",
              "</table>"
            ]
          },
          "metadata": {},
          "execution_count": 18
        }
      ]
    },
    {
      "cell_type": "code",
      "source": [
        "#9. Use a sub-query to find the name of the community area with highest hardship index\n",
        "%sql SELECT COMMUNITY_AREA_NAME, HARDSHIP_INDEX FROM CENSUS_DATA WHERE HARDSHIP_INDEX = (SELECT MAX(HARDSHIP_INDEX) FROM CENSUS_DATA);"
      ],
      "metadata": {
        "colab": {
          "base_uri": "https://localhost:8080/",
          "height": 97
        },
        "id": "B2Pkk0cT4IA2",
        "outputId": "2a899673-19f7-4bdc-e73c-5b110d89b8c3"
      },
      "execution_count": 19,
      "outputs": [
        {
          "output_type": "stream",
          "name": "stdout",
          "text": [
            " * sqlite:///Chicago.db\n",
            "Done.\n"
          ]
        },
        {
          "output_type": "execute_result",
          "data": {
            "text/plain": [
              "[('Riverdale', 98.0)]"
            ],
            "text/html": [
              "<table>\n",
              "    <thead>\n",
              "        <tr>\n",
              "            <th>COMMUNITY_AREA_NAME</th>\n",
              "            <th>HARDSHIP_INDEX</th>\n",
              "        </tr>\n",
              "    </thead>\n",
              "    <tbody>\n",
              "        <tr>\n",
              "            <td>Riverdale</td>\n",
              "            <td>98.0</td>\n",
              "        </tr>\n",
              "    </tbody>\n",
              "</table>"
            ]
          },
          "metadata": {},
          "execution_count": 19
        }
      ]
    },
    {
      "cell_type": "code",
      "source": [
        "#10. Use a sub-query to determine the Community Area Name with most number of crimes\n",
        "%sql SELECT COMMUNITY_AREA_NAME, COUNT(CASE_NUMBER) AS NUMBER_OF_CASES FROM CENSUS_DATA CD, CRIME_DATA CCD \\\n",
        "WHERE CD.COMMUNITY_AREA_NUMBER = CCD.COMMUNITY_AREA_NUMBER GROUP BY COMMUNITY_AREA_NAME ORDER BY NUMBER_OF_CASES DESC LIMIT 1;"
      ],
      "metadata": {
        "colab": {
          "base_uri": "https://localhost:8080/",
          "height": 97
        },
        "id": "QX2jFLPC4s0n",
        "outputId": "35ed2cc6-7664-4abe-f749-85ee59fded7f"
      },
      "execution_count": 21,
      "outputs": [
        {
          "output_type": "stream",
          "name": "stdout",
          "text": [
            " * sqlite:///Chicago.db\n",
            "Done.\n"
          ]
        },
        {
          "output_type": "execute_result",
          "data": {
            "text/plain": [
              "[('Austin', 43)]"
            ],
            "text/html": [
              "<table>\n",
              "    <thead>\n",
              "        <tr>\n",
              "            <th>COMMUNITY_AREA_NAME</th>\n",
              "            <th>NUMBER_OF_CASES</th>\n",
              "        </tr>\n",
              "    </thead>\n",
              "    <tbody>\n",
              "        <tr>\n",
              "            <td>Austin</td>\n",
              "            <td>43</td>\n",
              "        </tr>\n",
              "    </tbody>\n",
              "</table>"
            ]
          },
          "metadata": {},
          "execution_count": 21
        }
      ]
    },
    {
      "cell_type": "code",
      "source": [],
      "metadata": {
        "id": "DY2bbfb-5XVe"
      },
      "execution_count": null,
      "outputs": []
    }
  ]
}